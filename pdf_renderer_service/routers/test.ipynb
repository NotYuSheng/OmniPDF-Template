{
 "cells": [
  {
   "cell_type": "code",
   "execution_count": 2,
   "metadata": {},
   "outputs": [],
   "source": [
    "import pymupdf\n",
    "import logging\n",
    "import io\n",
    "import uuid\n",
    "import time\n",
    "import json\n",
    "import requests\n",
    "from pypdf import PdfWriter\n",
    "from collections import defaultdict\n",
    "from fastapi import APIRouter, HTTPException\n",
    "# from models.render import DocumentRendererResponse"
   ]
  },
  {
   "cell_type": "code",
   "execution_count": null,
   "metadata": {},
   "outputs": [
    {
     "name": "stdout",
     "output_type": "stream",
     "text": [
      "Trans Text: 设计并构建可访问的PDF表格 示例表格\n",
      "Coords: (90, 702.425, 344.845, 637.028)\n"
     ]
    },
    {
     "ename": "OverflowError",
     "evalue": "int too large to convert to float",
     "output_type": "error",
     "traceback": [
      "\u001b[31m---------------------------------------------------------------------------\u001b[39m",
      "\u001b[31mOverflowError\u001b[39m                             Traceback (most recent call last)",
      "\u001b[32m/tmp/ipykernel_143673/1688710485.py\u001b[39m in \u001b[36m?\u001b[39m\u001b[34m()\u001b[39m\n\u001b[32m     88\u001b[39m             \u001b[38;5;66;03m# logger.error(f\"Original BBox: {bbox}\")\u001b[39;00m\n\u001b[32m     89\u001b[39m             \u001b[38;5;66;03m# logger.error(f\"Converted Coords: {coords}\")\u001b[39;00m\n\u001b[32m     90\u001b[39m             \u001b[38;5;66;03m# logger.error(f\"Page size: {page.rect}\")\u001b[39;00m\n\u001b[32m     91\u001b[39m             \u001b[38;5;66;03m# logger.exception(e)  # full traceback\u001b[39;00m\n\u001b[32m---> \u001b[39m\u001b[32m92\u001b[39m             \u001b[38;5;28;01mraise\u001b[39;00m e  \u001b[38;5;66;03m# optionally re-raise for FastAPI to return 500\u001b[39;00m\n\u001b[32m     93\u001b[39m \n\u001b[32m     94\u001b[39m \n\u001b[32m     95\u001b[39m \n",
      "\u001b[32m/tmp/ipykernel_143673/1688710485.py\u001b[39m in \u001b[36m?\u001b[39m\u001b[34m()\u001b[39m\n\u001b[32m     88\u001b[39m             \u001b[38;5;66;03m# logger.error(f\"Original BBox: {bbox}\")\u001b[39;00m\n\u001b[32m     89\u001b[39m             \u001b[38;5;66;03m# logger.error(f\"Converted Coords: {coords}\")\u001b[39;00m\n\u001b[32m     90\u001b[39m             \u001b[38;5;66;03m# logger.error(f\"Page size: {page.rect}\")\u001b[39;00m\n\u001b[32m     91\u001b[39m             \u001b[38;5;66;03m# logger.exception(e)  # full traceback\u001b[39;00m\n\u001b[32m---> \u001b[39m\u001b[32m92\u001b[39m             \u001b[38;5;28;01mraise\u001b[39;00m e  \u001b[38;5;66;03m# optionally re-raise for FastAPI to return 500\u001b[39;00m\n\u001b[32m     93\u001b[39m \n\u001b[32m     94\u001b[39m \n\u001b[32m     95\u001b[39m \n",
      "\u001b[32m~/Desktop/OmniPDF/venv/lib/python3.12/site-packages/pymupdf/utils.py\u001b[39m in \u001b[36m?\u001b[39m\u001b[34m(page, rect, text, css, scale_low, archive, rotate, oc, opacity, overlay)\u001b[39m\n\u001b[32m   2439\u001b[39m     \u001b[38;5;66;03m# Find a scaling factor that lets our story fit in\u001b[39;00m\n\u001b[32m   2440\u001b[39m     \u001b[38;5;66;03m# ----------------------------------------------------------------\u001b[39;00m\n\u001b[32m   2441\u001b[39m     scale_max = \u001b[38;5;28;01mNone\u001b[39;00m \u001b[38;5;28;01mif\u001b[39;00m scale_low == \u001b[32m0\u001b[39m \u001b[38;5;28;01melse\u001b[39;00m \u001b[32m1\u001b[39m / scale_low\n\u001b[32m   2442\u001b[39m \n\u001b[32m-> \u001b[39m\u001b[32m2443\u001b[39m     fit = story.fit_scale(temp_rect, scale_min=\u001b[32m1\u001b[39m, scale_max=scale_max)\n\u001b[32m   2444\u001b[39m     \u001b[38;5;28;01mif\u001b[39;00m \u001b[38;5;28;01mnot\u001b[39;00m fit.big_enough:  \u001b[38;5;66;03m# there was no fit\u001b[39;00m\n\u001b[32m   2445\u001b[39m         \u001b[38;5;28;01mreturn\u001b[39;00m (-\u001b[32m1\u001b[39m, scale_low)\n\u001b[32m   2446\u001b[39m \n",
      "\u001b[32m~/Desktop/OmniPDF/venv/lib/python3.12/site-packages/pymupdf/__init__.py\u001b[39m in \u001b[36m?\u001b[39m\u001b[34m(self, rect, scale_min, scale_max, delta, verbose)\u001b[39m\n\u001b[32m  11979\u001b[39m         width = x1 - x0\n\u001b[32m  11980\u001b[39m         height = y1 - y0\n\u001b[32m  11981\u001b[39m         \u001b[38;5;28;01mdef\u001b[39;00m fn(scale):\n\u001b[32m  11982\u001b[39m             \u001b[38;5;28;01mreturn\u001b[39;00m Rect(x0, y0, x0 + scale*width, y0 + scale*height)\n\u001b[32m> \u001b[39m\u001b[32m11983\u001b[39m         \u001b[38;5;28;01mreturn\u001b[39;00m self.fit(fn, scale_min, scale_max, delta, verbose)\n",
      "\u001b[32m~/Desktop/OmniPDF/venv/lib/python3.12/site-packages/pymupdf/__init__.py\u001b[39m in \u001b[36m?\u001b[39m\u001b[34m(self, fn, pmin, pmax, delta, verbose)\u001b[39m\n\u001b[32m  11935\u001b[39m             \u001b[38;5;66;03m# Find an initial finite pmax value.\u001b[39;00m\n\u001b[32m  11936\u001b[39m             \u001b[38;5;28;01mif\u001b[39;00m verbose: log(f'finding pmax.')\n\u001b[32m  11937\u001b[39m             parameter = opposite(state.pmin, +\u001b[32m1\u001b[39m)\n\u001b[32m  11938\u001b[39m             \u001b[38;5;28;01mwhile\u001b[39;00m \u001b[32m1\u001b[39m:\n\u001b[32m> \u001b[39m\u001b[32m11939\u001b[39m                 \u001b[38;5;28;01mif\u001b[39;00m update(parameter):\n\u001b[32m  11940\u001b[39m                     \u001b[38;5;28;01mbreak\u001b[39;00m\n\u001b[32m  11941\u001b[39m                 parameter *= \u001b[32m2\u001b[39m\n\u001b[32m  11942\u001b[39m         \u001b[38;5;28;01melse\u001b[39;00m:\n",
      "\u001b[32m~/Desktop/OmniPDF/venv/lib/python3.12/site-packages/pymupdf/__init__.py\u001b[39m in \u001b[36m?\u001b[39m\u001b[34m(parameter)\u001b[39m\n\u001b[32m  11876\u001b[39m             false, then `rect` \u001b[38;5;28;01mis\u001b[39;00m big enough to contain `self` \u001b[38;5;28;01mand\u001b[39;00m we\n\u001b[32m  11877\u001b[39m             set `state.pmax=parameter` \u001b[38;5;28;01mand\u001b[39;00m \u001b[38;5;28;01mreturn\u001b[39;00m \u001b[38;5;28;01mTrue\u001b[39;00m. Otherwise we set\n\u001b[32m  11878\u001b[39m             `state.pmin=parameter` \u001b[38;5;28;01mand\u001b[39;00m \u001b[38;5;28;01mreturn\u001b[39;00m \u001b[38;5;28;01mFalse\u001b[39;00m.\n\u001b[32m  11879\u001b[39m             '''\n\u001b[32m> \u001b[39m\u001b[32m11880\u001b[39m             rect = fn(parameter)\n\u001b[32m  11881\u001b[39m             \u001b[38;5;28;01massert\u001b[39;00m isinstance(rect, Rect), f'{type(rect)=} {rect=}'\n\u001b[32m  11882\u001b[39m             \u001b[38;5;28;01mif\u001b[39;00m rect.is_empty:\n\u001b[32m  11883\u001b[39m                 big_enough = \u001b[38;5;28;01mFalse\u001b[39;00m\n",
      "\u001b[32m~/Desktop/OmniPDF/venv/lib/python3.12/site-packages/pymupdf/__init__.py\u001b[39m in \u001b[36m?\u001b[39m\u001b[34m(scale)\u001b[39m\n\u001b[32m  11981\u001b[39m         \u001b[38;5;28;01mdef\u001b[39;00m fn(scale):\n\u001b[32m> \u001b[39m\u001b[32m11982\u001b[39m             \u001b[38;5;28;01mreturn\u001b[39;00m Rect(x0, y0, x0 + scale*width, y0 + scale*height)\n",
      "\u001b[31mOverflowError\u001b[39m: int too large to convert to float"
     ]
    }
   ],
   "source": [
    "logger = logging.getLogger(__name__)\n",
    "doc_url=\"/home/ubuntu/Desktop/OmniPDF/sample-files/sample-tables.pdf\"\n",
    "json_url=\"/home/ubuntu/Desktop/OmniPDF/sample-files/table_output.json\"\n",
    "\n",
    "# response = requests.get(json_url)\n",
    "# response.raise_for_status()\n",
    "# json_data = response.json()\n",
    "\n",
    "with open(json_url, \"r\", encoding=\"utf-8\") as f:\n",
    "    json_data = json.load(f)\n",
    "\n",
    "\n",
    "\n",
    "trans_text_data = defaultdict(list)\n",
    "\n",
    "texts = json_data.get(\"docling\", {}).get(\"texts\", [])\n",
    "\n",
    "for text_item in texts:\n",
    "    translated = text_item.get(\"translated_text\", \"\")\n",
    "\n",
    "    for prov in text_item.get(\"prov\", []):\n",
    "        page_no = prov.get(\"page_no\")\n",
    "        bbox = prov.get(\"bbox\")\n",
    "\n",
    "        if page_no is not None and bbox:\n",
    "            trans_text_data[page_no].append({\n",
    "                \"translated_text\": translated,\n",
    "                \"bbox\": bbox\n",
    "            })\n",
    "\n",
    "\n",
    "tables = json_data.get(\"docling\", {}).get(\"tables\", [])\n",
    "\n",
    "for table in tables:\n",
    "    table_cells = table.get(\"data\", {}).get(\"table_cells\", [])\n",
    "    page_no = table.get(\"prov\", [])[0].get(\"page_no\")\n",
    "\n",
    "    for cell in table_cells:\n",
    "        translated = cell.get(\"translated_text\")\n",
    "        bbox = cell.get(\"bbox\")\n",
    "\n",
    "        y0 = bbox[\"b\"]\n",
    "        y1 = bbox[\"t\"]\n",
    "\n",
    "        if page_no is not None and bbox:\n",
    "            trans_text_data[page_no].append({\n",
    "                \"translated_text\": translated,\n",
    "                \"bbox\": bbox\n",
    "            })\n",
    "\n",
    "\n",
    "data = dict(trans_text_data)\n",
    "\n",
    "# pdf_response = requests.get(doc_url)\n",
    "# pdf_response.raise_for_status()\n",
    "doc = pymupdf.open(doc_url, filetype=\"pdf\")\n",
    "\n",
    "for page in doc:\n",
    "    logger.info(f\"{page.number}\\n\") \n",
    "    blocks = page.get_text(\"blocks\") \n",
    "    for block in blocks:\n",
    "        rect = block[:4] \n",
    "\n",
    "        page.add_redact_annot(rect)\n",
    "\n",
    "    page.apply_redactions()\n",
    "    page.clean_contents()\n",
    "    data_lst = data[page.number + 1]\n",
    "    for trans_data in data_lst:\n",
    "        trans_text = trans_data[\"translated_text\"]\n",
    "        bbox = trans_data['bbox']\n",
    "\n",
    "        y0 = (bbox[\"t\"])\n",
    "        y1 = (bbox[\"b\"])\n",
    "\n",
    "        top = max(y0, y1)\n",
    "        bottom = min(y0, y1)\n",
    "\n",
    "        coords = (bbox[\"l\"], top, bbox[\"r\"], bottom)\n",
    "        \n",
    "        print(f\"Trans Text: {trans_text}\")\n",
    "        print(f\"Coords: {coords}\")\n",
    "\n",
    "        # logger.info(f\"Text: {trans_text}\")\n",
    "        # logger.info(f\"Bbox: {coords}\")\n",
    "        try:\n",
    "            page.insert_htmlbox(coords, trans_text)\n",
    "        except Exception as e:\n",
    "            # logger.error(\"Error inserting HTML box:\")\n",
    "            # logger.error(f\"Text: {trans_text}\")\n",
    "            # logger.error(f\"Original BBox: {bbox}\")\n",
    "            # logger.error(f\"Converted Coords: {coords}\")\n",
    "            # logger.error(f\"Page size: {page.rect}\")\n",
    "            # logger.exception(e)  # full traceback\n",
    "            raise e  # optionally re-raise for FastAPI to return 500\n",
    "\n",
    "        \n",
    "\n",
    "\n",
    "# logger.info(f\"Time to render document: {time.time() - start_time}\")\n",
    "\n",
    "# doc_id = str(uuid.uuid4())\n",
    "# key = f\"{doc_id}/rendered.pdf\"\n",
    "\n",
    "# try:\n",
    "#     success = upload_fileobj(\n",
    "#         buffer, key, content_type=\"application/pdf\"\n",
    "#     )\n",
    "#     if not success:\n",
    "#         raise HTTPException(status_code=500, detail=\"Failed to upload file to S3\")\n",
    "\n",
    "#     presigned_url = generate_presigned_url(key)\n",
    "\n",
    "# except Exception as e:\n",
    "#     logger.error(f\"Unexpected error during upload: {e}\", exc_info=True)\n",
    "#     raise HTTPException(status_code=500, detail=\"Internal server error\")\n",
    "    \n",
    "#     return(DocumentRendererResponse(doc_id=doc_id,\n",
    "#                                     filename=key,\n",
    "#                                     download_url=presigned_url,\n",
    "#                                     )\n",
    "#                                 )"
   ]
  },
  {
   "cell_type": "code",
   "execution_count": 38,
   "metadata": {},
   "outputs": [],
   "source": [
    "save_path = \"/home/ubuntu/Desktop/OmniPDF/sample-files/test.pdf\""
   ]
  },
  {
   "cell_type": "code",
   "execution_count": 39,
   "metadata": {},
   "outputs": [],
   "source": [
    "doc.subset_fonts()\n",
    "doc.save(save_path, garbage=4, deflate=True, clean=True)\n",
    "# garbage=3, deflate=True, clean=True"
   ]
  },
  {
   "cell_type": "code",
   "execution_count": 10,
   "metadata": {},
   "outputs": [
    {
     "data": {
      "text/plain": [
       "0"
      ]
     },
     "execution_count": 10,
     "metadata": {},
     "output_type": "execute_result"
    }
   ],
   "source": [
    "buffer = io.BytesIO()\n",
    "doc.ez_save(buffer)\n",
    "buffer.seek(0)  # Reset buffer position"
   ]
  },
  {
   "cell_type": "code",
   "execution_count": 26,
   "metadata": {},
   "outputs": [],
   "source": [
    "writer = PdfWriter(clone_from=\"/home/ubuntu/Desktop/OmniPDF/pdf_renderer_service/routers/test.pdf\")\n",
    "\n",
    "for page in writer.pages:\n",
    "    page.compress_content_streams()\n",
    "with open(\"/home/ubuntu/Desktop/OmniPDF/pdf_renderer_service/routers/test.pdf\", \"wb\") as f:\n",
    "    writer.write(f)"
   ]
  }
 ],
 "metadata": {
  "kernelspec": {
   "display_name": "venv",
   "language": "python",
   "name": "python3"
  },
  "language_info": {
   "codemirror_mode": {
    "name": "ipython",
    "version": 3
   },
   "file_extension": ".py",
   "mimetype": "text/x-python",
   "name": "python",
   "nbconvert_exporter": "python",
   "pygments_lexer": "ipython3",
   "version": "3.12.3"
  }
 },
 "nbformat": 4,
 "nbformat_minor": 2
}
