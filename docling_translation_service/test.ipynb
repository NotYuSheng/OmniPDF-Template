{
 "cells": [
  {
   "cell_type": "code",
   "execution_count": null,
   "metadata": {},
   "outputs": [
    {
     "name": "stderr",
     "output_type": "stream",
     "text": [
      "c:\\Users\\limjj\\Documents\\OTB\\OmniPDF\\.venv\\Lib\\site-packages\\tqdm\\auto.py:21: TqdmWarning: IProgress not found. Please update jupyter and ipywidgets. See https://ipywidgets.readthedocs.io/en/stable/user_install.html\n",
      "  from .autonotebook import tqdm as notebook_tqdm\n"
     ]
    }
   ],
   "source": [
    "from docling.document_converter import DocumentConverter\n",
    "import json\n",
    "\n",
    "source = r\"/home/ubuntu/Desktop/OmniPDF/sample-files/sample-tables.pdf\"  # document per local path or URL\n",
    "\n",
    "converter = DocumentConverter()\n",
    "doc = converter.convert(source).document\n",
    "\n",
    "data = doc.export_to_dict()\n",
    "\n",
    "with open(\"./output.json\", \"w\") as f:\n",
    "    json.dump(data, f, indent=4)"
   ]
  },
  {
   "cell_type": "code",
   "execution_count": 1,
   "metadata": {},
   "outputs": [
    {
     "data": {
      "text/plain": [
       "'Saya membelakang ke sekolah.'"
      ]
     },
     "execution_count": 1,
     "metadata": {},
     "output_type": "execute_result"
    }
   ],
   "source": [
    "import requests\n",
    "\n",
    "# system_prompt = \"Translate the following from english to chinese\"\n",
    "\n",
    "\n",
    "#################### Qwen setup ####################\n",
    "# LLM_URL = \"http://192.168.1.108:8000/v1/chat/completions\" #chat/completions  \n",
    "LLM_URL = \"http://192.168.1.224:80/v1/chat/completions\"\n",
    "\n",
    "TOKEN = \"token-abc123\"\n",
    "\n",
    "def translate(prompt, input_lang=None, output_lang=\"English\"):\n",
    "    if input_lang:\n",
    "        system_prompt = (\n",
    "            f\"You are a professional translator. Given the input language '{input_lang}', \"\n",
    "            f\"think deeply and translate the following to '{output_lang}'. \"\n",
    "            f\"Return only the translated text.\"\n",
    "        )\n",
    "    else:\n",
    "        system_prompt = (\n",
    "            f\"You are a professional translator. Think deeply and translate the following to '{output_lang}'. \"\n",
    "            f\"Detect the source language automatically and return only the translated text.\"\n",
    "        )\n",
    "\n",
    "    r = requests.post(\n",
    "        LLM_URL,\n",
    "        headers={\n",
    "            \"Content-Type\": \"application/json\",\n",
    "            \"Authorization\": f\"Bearer {TOKEN}\"\n",
    "        },\n",
    "        json={\n",
    "            \"model\": \"qwen2.5\",\n",
    "            \"messages\": [\n",
    "                {\"role\": \"system\", \"content\": system_prompt},\n",
    "                {\"role\": \"user\", \"content\": prompt}\n",
    "            ],\n",
    "            \"temperature\": 0\n",
    "        }\n",
    "    )\n",
    "\n",
    "    return r.json()[\"choices\"][0][\"message\"][\"content\"]\n",
    "\n",
    "translate(\"I took the bus to school\", input_lang=\"english\", output_lang=\"malay\")"
   ]
  },
  {
   "cell_type": "markdown",
   "metadata": {},
   "source": [
    "### Handle texts"
   ]
  },
  {
   "cell_type": "code",
   "execution_count": 17,
   "metadata": {},
   "outputs": [],
   "source": [
    "input_lang=\"english\"\n",
    "output_lang=\"malay\"\n",
    "\n",
    "for entry in data[\"texts\"]:\n",
    "    original_text = entry.get(\"text\") or entry.get(\"orig\")\n",
    "    if original_text:\n",
    "        translated_text = translate(original_text, input_lang=input_lang, output_lang=output_lang)\n",
    "        entry[\"trans\"] = translated_text\n",
    "\n",
    "with open(\"translated.json\", \"w\") as f:\n",
    "    json.dump(data, f, indent=4)\n"
   ]
  },
  {
   "cell_type": "markdown",
   "metadata": {},
   "source": [
    "### Handle table (table cells)"
   ]
  },
  {
   "cell_type": "code",
   "execution_count": 19,
   "metadata": {},
   "outputs": [],
   "source": [
    "for table in data[\"tables\"]:\n",
    "    for entry in table[\"data\"][\"table_cells\"]:\n",
    "        original_text = entry.get(\"text\")\n",
    "        if original_text:\n",
    "            translated_text = translate(original_text, input_lang=input_lang, output_lang=output_lang)\n",
    "            entry[\"trans\"] = translated_text"
   ]
  },
  {
   "cell_type": "code",
   "execution_count": 20,
   "metadata": {},
   "outputs": [],
   "source": [
    "with open(\"translated_more.json\", \"w\") as f:\n",
    "    json.dump(data, f, indent=4)"
   ]
  },
  {
   "cell_type": "code",
   "execution_count": null,
   "metadata": {},
   "outputs": [],
   "source": []
  },
  {
   "cell_type": "code",
   "execution_count": null,
   "metadata": {},
   "outputs": [],
   "source": []
  },
  {
   "cell_type": "code",
   "execution_count": null,
   "metadata": {},
   "outputs": [],
   "source": []
  },
  {
   "cell_type": "code",
   "execution_count": 1,
   "metadata": {},
   "outputs": [],
   "source": [
    "LLM_URL = \"http://192.168.1.108:80/v1/chat/completions\"\n",
    "# LLM_URL = \"http://192.168.1.197:80/v1/chat/completions\"\n",
    "TOKEN = \"token-abc123\"\n",
    "\n",
    "def translate(prompt, source_lang=None, target_lang=\"English\"):\n",
    "    if source_lang:\n",
    "        system_prompt = (\n",
    "            f\"You are a professional translator. Given the input language '{source_lang}', \"\n",
    "            f\"think deeply and translate the following to '{target_lang}'. \"\n",
    "            f\"Return only the translated text.\"\n",
    "        )\n",
    "    else:\n",
    "        system_prompt = (\n",
    "            f\"You are a professional translator. Think deeply and translate the following to '{target_lang}'. \"\n",
    "            f\"Detect the source language automatically and return only the translated text.\"\n",
    "        )\n",
    "\n",
    "    r = requests.post(\n",
    "        LLM_URL,\n",
    "        headers={\n",
    "            \"Content-Type\": \"application/json\",\n",
    "            \"Authorization\": f\"Bearer {TOKEN}\"\n",
    "        },\n",
    "        json={\n",
    "            \"model\": \"qwen2.5\",\n",
    "            \"messages\": [\n",
    "                {\"role\": \"system\", \"content\": system_prompt},\n",
    "                {\"role\": \"user\", \"content\": prompt}\n",
    "            ],\n",
    "            \"temperature\": 0\n",
    "        }\n",
    "    )\n",
    "\n",
    "    return r.json()[\"choices\"][0][\"message\"][\"content\"]"
   ]
  },
  {
   "cell_type": "code",
   "execution_count": 3,
   "metadata": {},
   "outputs": [],
   "source": [
    "from models.translate import TranslateResponse, DoclingTranslationResponse\n",
    "from fastapi import APIRouter, Query, Body\n",
    "\n",
    "def doc_translate(payload: TranslateResponse = Body(...)):\n",
    "    doc_id = payload.doc_id\n",
    "    source_lang = payload.source_lang\n",
    "    target_lang = payload.target_lang or \"English\"\n",
    "    data = payload.message \n",
    "\n",
    "    for i, entry in enumerate(data.texts):\n",
    "        original_text = entry.get(\"text\") or entry.get(\"orig\")\n",
    "        if original_text:\n",
    "            translated_text = translate(original_text, source_lang=source_lang, target_lang=target_lang)\n",
    "            entry_dict = dict(entry) if not isinstance(entry, dict) else entry\n",
    "            entry_dict[\"trans\"] = translated_text\n",
    "            data.texts[i] = entry_dict  # update the list\n",
    "\n",
    "\n",
    "    for table in data.tables:\n",
    "        table_data = table.get(\"data\", {})\n",
    "        table_cells = table_data.get(\"table_cells\", [])\n",
    "        for i, entry in enumerate(table_cells):\n",
    "            original_text = entry.get(\"text\")\n",
    "            if original_text:\n",
    "                translated_text = translate(original_text, source_lang=source_lang, target_lang=target_lang)\n",
    "                entry_dict = dict(entry) if not isinstance(entry, dict) else entry\n",
    "                entry_dict[\"trans\"] = translated_text\n",
    "                table_cells[i] = entry_dict\n",
    "\n",
    "    if source_lang:\n",
    "        return TranslateResponse(\n",
    "            doc_id = doc_id,\n",
    "            source_lang = source_lang,\n",
    "            target_lang = target_lang,\n",
    "            message = data\n",
    "        )\n",
    "    else:\n",
    "        return TranslateResponse(\n",
    "            doc_id = doc_id,\n",
    "            target_lang = target_lang,\n",
    "            message = data\n",
    "        )"
   ]
  },
  {
   "cell_type": "code",
   "execution_count": 4,
   "metadata": {},
   "outputs": [
    {
     "ename": "FileNotFoundError",
     "evalue": "[Errno 2] No such file or directory: './docling_translation_service/sample_json/input.json'",
     "output_type": "error",
     "traceback": [
      "\u001b[31m---------------------------------------------------------------------------\u001b[39m",
      "\u001b[31mFileNotFoundError\u001b[39m                         Traceback (most recent call last)",
      "\u001b[36mCell\u001b[39m\u001b[36m \u001b[39m\u001b[32mIn[4]\u001b[39m\u001b[32m, line 5\u001b[39m\n\u001b[32m      2\u001b[39m \u001b[38;5;28;01mfrom\u001b[39;00m\u001b[38;5;250m \u001b[39m\u001b[34;01mmodels\u001b[39;00m\u001b[34;01m.\u001b[39;00m\u001b[34;01mtranslate\u001b[39;00m\u001b[38;5;250m \u001b[39m\u001b[38;5;28;01mimport\u001b[39;00m TranslateResponse\n\u001b[32m      4\u001b[39m \u001b[38;5;66;03m# Load JSON file as dict\u001b[39;00m\n\u001b[32m----> \u001b[39m\u001b[32m5\u001b[39m \u001b[38;5;28;01mwith\u001b[39;00m \u001b[38;5;28;43mopen\u001b[39;49m\u001b[43m(\u001b[49m\u001b[33;43m\"\u001b[39;49m\u001b[33;43m./docling_translation_service/sample_json/input.json\u001b[39;49m\u001b[33;43m\"\u001b[39;49m\u001b[43m,\u001b[49m\u001b[43m \u001b[49m\u001b[33;43m\"\u001b[39;49m\u001b[33;43mr\u001b[39;49m\u001b[33;43m\"\u001b[39;49m\u001b[43m)\u001b[49m \u001b[38;5;28;01mas\u001b[39;00m f:\n\u001b[32m      6\u001b[39m     data = json.load(f)\n\u001b[32m      8\u001b[39m \u001b[38;5;66;03m# Convert dict to TranslateResponse Pydantic model\u001b[39;00m\n",
      "\u001b[36mFile \u001b[39m\u001b[32m~/Desktop/OmniPDF/venv/lib/python3.12/site-packages/IPython/core/interactiveshell.py:327\u001b[39m, in \u001b[36m_modified_open\u001b[39m\u001b[34m(file, *args, **kwargs)\u001b[39m\n\u001b[32m    320\u001b[39m \u001b[38;5;28;01mif\u001b[39;00m file \u001b[38;5;129;01min\u001b[39;00m {\u001b[32m0\u001b[39m, \u001b[32m1\u001b[39m, \u001b[32m2\u001b[39m}:\n\u001b[32m    321\u001b[39m     \u001b[38;5;28;01mraise\u001b[39;00m \u001b[38;5;167;01mValueError\u001b[39;00m(\n\u001b[32m    322\u001b[39m         \u001b[33mf\u001b[39m\u001b[33m\"\u001b[39m\u001b[33mIPython won\u001b[39m\u001b[33m'\u001b[39m\u001b[33mt let you open fd=\u001b[39m\u001b[38;5;132;01m{\u001b[39;00mfile\u001b[38;5;132;01m}\u001b[39;00m\u001b[33m by default \u001b[39m\u001b[33m\"\u001b[39m\n\u001b[32m    323\u001b[39m         \u001b[33m\"\u001b[39m\u001b[33mas it is likely to crash IPython. If you know what you are doing, \u001b[39m\u001b[33m\"\u001b[39m\n\u001b[32m    324\u001b[39m         \u001b[33m\"\u001b[39m\u001b[33myou can use builtins\u001b[39m\u001b[33m'\u001b[39m\u001b[33m open.\u001b[39m\u001b[33m\"\u001b[39m\n\u001b[32m    325\u001b[39m     )\n\u001b[32m--> \u001b[39m\u001b[32m327\u001b[39m \u001b[38;5;28;01mreturn\u001b[39;00m \u001b[43mio_open\u001b[49m\u001b[43m(\u001b[49m\u001b[43mfile\u001b[49m\u001b[43m,\u001b[49m\u001b[43m \u001b[49m\u001b[43m*\u001b[49m\u001b[43margs\u001b[49m\u001b[43m,\u001b[49m\u001b[43m \u001b[49m\u001b[43m*\u001b[49m\u001b[43m*\u001b[49m\u001b[43mkwargs\u001b[49m\u001b[43m)\u001b[49m\n",
      "\u001b[31mFileNotFoundError\u001b[39m: [Errno 2] No such file or directory: './docling_translation_service/sample_json/input.json'"
     ]
    }
   ],
   "source": [
    "import json\n",
    "from models.translate import TranslateResponse\n",
    "\n",
    "# Load JSON file as dict\n",
    "with open(\"./sample_json/input.json\", \"r\") as f:\n",
    "    data = json.load(f)\n",
    "\n",
    "# Convert dict to TranslateResponse Pydantic model\n",
    "payload = TranslateResponse(**data)\n",
    "\n",
    "# Call your function directly\n",
    "result = doc_translate(payload=payload)\n",
    "\n",
    "# Print the output\n",
    "print(result)\n"
   ]
  }
 ],
 "metadata": {
  "kernelspec": {
   "display_name": "venv",
   "language": "python",
   "name": "python3"
  },
  "language_info": {
   "codemirror_mode": {
    "name": "ipython",
    "version": 3
   },
   "file_extension": ".py",
   "mimetype": "text/x-python",
   "name": "python",
   "nbconvert_exporter": "python",
   "pygments_lexer": "ipython3",
   "version": "3.12.2"
  }
 },
 "nbformat": 4,
 "nbformat_minor": 2
}
