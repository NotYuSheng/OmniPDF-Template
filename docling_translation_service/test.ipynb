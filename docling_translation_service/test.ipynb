{
 "cells": [
  {
   "cell_type": "code",
   "execution_count": 1,
   "metadata": {},
   "outputs": [
    {
     "name": "stderr",
     "output_type": "stream",
     "text": [
      "/home/ubuntu/Desktop/OmniPDF/venv/lib/python3.12/site-packages/tqdm/auto.py:21: TqdmWarning: IProgress not found. Please update jupyter and ipywidgets. See https://ipywidgets.readthedocs.io/en/stable/user_install.html\n",
      "  from .autonotebook import tqdm as notebook_tqdm\n"
     ]
    }
   ],
   "source": [
    "from docling.document_converter import DocumentConverter\n",
    "import json\n",
    "\n",
    "source = r\"/home/ubuntu/Desktop/OmniPDF/sample-files/sample-tables.pdf\"  # document per local path or URL\n",
    "\n",
    "converter = DocumentConverter()\n",
    "doc = converter.convert(source).document\n",
    "\n",
    "data = doc.export_to_dict()\n",
    "\n",
    "with open(\"./output.json\", \"w\") as f:\n",
    "    json.dump(data, f, indent=4)"
   ]
  },
  {
   "cell_type": "code",
   "execution_count": 14,
   "metadata": {},
   "outputs": [
    {
     "data": {
      "text/plain": [
       "'Saya pergi sekolah menggunakan bas'"
      ]
     },
     "execution_count": 14,
     "metadata": {},
     "output_type": "execute_result"
    }
   ],
   "source": [
    "import requests\n",
    "\n",
    "# system_prompt = \"Translate the following from english to chinese\"\n",
    "\n",
    "\n",
    "#################### Qwen setup ####################\n",
    "# LLM_URL = \"http://192.168.1.108:8000/v1/chat/completions\" #chat/completions  \n",
    "LLM_URL = \"http://192.168.1.108:80/v1/chat/completions\"\n",
    "\n",
    "TOKEN = \"token-abc123\"\n",
    "\n",
    "def translate(prompt, input_lang=None, output_lang=\"English\"):\n",
    "    if input_lang:\n",
    "        system_prompt = (\n",
    "            f\"You are a professional translator. Given the input language '{input_lang}', \"\n",
    "            f\"think deeply and translate the following to '{output_lang}'. \"\n",
    "            f\"Return only the translated text.\"\n",
    "        )\n",
    "    else:\n",
    "        system_prompt = (\n",
    "            f\"You are a professional translator. Think deeply and translate the following to '{output_lang}'. \"\n",
    "            f\"Detect the source language automatically and return only the translated text.\"\n",
    "        )\n",
    "\n",
    "    r = requests.post(\n",
    "        LLM_URL,\n",
    "        headers={\n",
    "            \"Content-Type\": \"application/json\",\n",
    "            \"Authorization\": f\"Bearer {TOKEN}\"\n",
    "        },\n",
    "        json={\n",
    "            \"model\": \"qwen2.5\",\n",
    "            \"messages\": [\n",
    "                {\"role\": \"system\", \"content\": system_prompt},\n",
    "                {\"role\": \"user\", \"content\": prompt}\n",
    "            ],\n",
    "            \"temperature\": 0\n",
    "        }\n",
    "    )\n",
    "\n",
    "    return r.json()[\"choices\"][0][\"message\"][\"content\"]\n",
    "\n",
    "translate(\"I took the bus to school\", input_lang=\"english\", output_lang=\"malay\")"
   ]
  },
  {
   "cell_type": "markdown",
   "metadata": {},
   "source": [
    "### Handle texts"
   ]
  },
  {
   "cell_type": "code",
   "execution_count": 17,
   "metadata": {},
   "outputs": [],
   "source": [
    "input_lang=\"english\"\n",
    "output_lang=\"malay\"\n",
    "\n",
    "for entry in data[\"texts\"]:\n",
    "    original_text = entry.get(\"text\") or entry.get(\"orig\")\n",
    "    if original_text:\n",
    "        translated_text = translate(original_text, input_lang=input_lang, output_lang=output_lang)\n",
    "        entry[\"trans\"] = translated_text\n",
    "\n",
    "with open(\"translated.json\", \"w\") as f:\n",
    "    json.dump(data, f, indent=4)\n"
   ]
  },
  {
   "cell_type": "markdown",
   "metadata": {},
   "source": [
    "### Handle table (table cells)"
   ]
  },
  {
   "cell_type": "code",
   "execution_count": 19,
   "metadata": {},
   "outputs": [],
   "source": [
    "for table in data[\"tables\"]:\n",
    "    for entry in table[\"data\"][\"table_cells\"]:\n",
    "        original_text = entry.get(\"text\")\n",
    "        if original_text:\n",
    "            translated_text = translate(original_text, input_lang=input_lang, output_lang=output_lang)\n",
    "            entry[\"trans\"] = translated_text"
   ]
  },
  {
   "cell_type": "code",
   "execution_count": 20,
   "metadata": {},
   "outputs": [],
   "source": [
    "with open(\"translated_more.json\", \"w\") as f:\n",
    "    json.dump(data, f, indent=4)"
   ]
  },
  {
   "cell_type": "markdown",
   "metadata": {},
   "source": []
  },
  {
   "cell_type": "code",
   "execution_count": null,
   "metadata": {},
   "outputs": [],
   "source": []
  }
 ],
 "metadata": {
  "kernelspec": {
   "display_name": "venv",
   "language": "python",
   "name": "python3"
  },
  "language_info": {
   "codemirror_mode": {
    "name": "ipython",
    "version": 3
   },
   "file_extension": ".py",
   "mimetype": "text/x-python",
   "name": "python",
   "nbconvert_exporter": "python",
   "pygments_lexer": "ipython3",
   "version": "3.12.3"
  }
 },
 "nbformat": 4,
 "nbformat_minor": 2
}
